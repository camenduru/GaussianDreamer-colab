{
  "cells": [
    {
      "cell_type": "markdown",
      "metadata": {
        "id": "view-in-github"
      },
      "source": [
        "[![Open In Colab](https://colab.research.google.com/assets/colab-badge.svg)](https://colab.research.google.com/github/camenduru/GaussianDreamer-colab/blob/main/GaussianDreamer_colab.ipynb)"
      ]
    },
    {
      "cell_type": "code",
      "execution_count": null,
      "metadata": {
        "id": "VjYy0F2gZIPR"
      },
      "outputs": [],
      "source": [
        "%cd /content\n",
        "!git clone -b dev https://github.com/camenduru/GaussianDreamer\n",
        "\n",
        "!pip install -q https://huggingface.co/camenduru/GaussianDreamer/resolve/main/diff_gaussian_rasterization-0.0.0-cp310-cp310-linux_x86_64.whl\n",
        "!pip install -q https://huggingface.co/camenduru/GaussianDreamer/resolve/main/simple_knn-0.0.0-cp310-cp310-linux_x86_64.whl\n",
        "!pip install -q git+https://github.com/openai/shap-e.git\n",
        "!pip install -q pytorch_lightning omegaconf jaxtyping libigl diffusers transformers accelerate\n",
        "!pip install -q einops trimesh wandb plyfile open3d\n",
        "!pip install -q https://huggingface.co/camenduru/CoDeF/resolve/main/tinycudann-1.7-cp310-cp310-linux_x86_64.whl\n",
        "!pip install -q git+https://github.com/ashawkey/envlight\n",
        "!pip install -q git+https://github.com/NVlabs/nvdiffrast\n",
        "!pip install -q https://huggingface.co/camenduru/GaussianDreamer/resolve/main/nerfacc-0.5.3-cp310-cp310-linux_x86_64.whl\n",
        "!pip install -q https://download.pytorch.org/whl/cu121/xformers-0.0.22.post7-cp310-cp310-manylinux2014_x86_64.whl\n",
        "\n",
        "!apt -y install -qq aria2 #libglm-dev\n",
        "!aria2c --console-log-level=error -c -x 16 -s 16 -k 1M https://huggingface.co/camenduru/GaussianDreamer/resolve/main/shapE_finetuned_with_330kdata.pth -d /content/GaussianDreamer/load -o shapE_finetuned_with_330kdata.pth"
      ]
    },
    {
      "cell_type": "code",
      "execution_count": null,
      "metadata": {},
      "outputs": [],
      "source": [
        "%cd /content/GaussianDreamer\n",
        "!python launch.py --config configs/gaussiandreamer-sd.yaml --train --gpu 0 system.prompt_processor.prompt=\"a fox\""
      ]
    }
  ],
  "metadata": {
    "accelerator": "GPU",
    "colab": {
      "gpuType": "T4",
      "provenance": []
    },
    "kernelspec": {
      "display_name": "Python 3",
      "name": "python3"
    },
    "language_info": {
      "name": "python"
    }
  },
  "nbformat": 4,
  "nbformat_minor": 0
}
